{
 "cells": [
  {
   "cell_type": "code",
   "execution_count": null,
   "metadata": {},
   "outputs": [],
   "source": [
    "#!/bin/bash\n",
    "\n",
    "seed=42\n",
    "\n",
    "# llava\n",
    "# model=\"llava\"\n",
    "# model_path=\"/mnt/server8_hard1/donguk/NEURIPS2024/checkpoints/llava-v1.5-7b\"\n",
    "\n",
    "# instructblip\n",
    "model=\"instructblip\"\n",
    "model_path=None\n",
    "\n",
    "coco_path=\"/mnt/server17_hard1/sangmin/data/coco\"\n",
    "img_path=\"${coco_path}/val2014/\"\n",
    "anno_path=\"${coco_path}/annotations/instances_val2014.json\"\n",
    "log_path=\"./logs/chair\"\n",
    "out_path=\"./chair_results/${model}\"\n",
    "\n",
    "# use_ritual=True\n",
    "# use_vcd=False\n",
    "# use_m3id=False\n",
    "\n",
    "# ritual_alpha_pos=3.0\n",
    "# ritual_alpha_neg=1.0\n",
    "# ritual_beta=0.1\n",
    "\n",
    "experiment_index=0\n",
    "\n",
    "num_eval_samples=500\n",
    "max_new_tokens=64"
   ]
  },
  {
   "cell_type": "code",
   "execution_count": 1,
   "metadata": {},
   "outputs": [
    {
     "ename": "",
     "evalue": "",
     "output_type": "error",
     "traceback": [
      "\u001b[1;31m커널을 시작하지 못했습니다. \n",
      "\u001b[1;31m포트 사용 대기 시간 초과로 인해 'test (Python 3.9.16)' 커널을 시작할 수 없습니다. \n",
      "\u001b[1;31m자세한 내용은 Jupyter <a href='command:jupyter.viewOutput'>로그</a>를 참조하세요."
     ]
    }
   ],
   "source": [
    "import json\n",
    "qe = [json.loads(file) for file in open(\"/home/bscho333/Workspace/experiment/image_list.jsonl\", \"r\")]"
   ]
  },
  {
   "cell_type": "code",
   "execution_count": null,
   "metadata": {},
   "outputs": [],
   "source": [
    "qe"
   ]
  },
  {
   "cell_type": "code",
   "execution_count": null,
   "metadata": {},
   "outputs": [],
   "source": [
    "with open(\"/home/bscho333/Workspace/experiment/image_list.jsonl\", \"r\") as f:\n",
    "    for line in f:\n",
    "        "
   ]
  },
  {
   "cell_type": "code",
   "execution_count": 2,
   "metadata": {},
   "outputs": [
    {
     "data": {
      "text/plain": [
       "[{'question_id': 1,\n",
       "  'text': 'How can I improve my time management skills?',\n",
       "  'category': 'generic'},\n",
       " {'question_id': 2,\n",
       "  'text': 'What are the most effective ways to deal with stress?',\n",
       "  'category': 'generic'},\n",
       " {'question_id': 3,\n",
       "  'text': 'What are the main differences between Python and JavaScript programming languages?',\n",
       "  'category': 'generic'},\n",
       " {'question_id': 4,\n",
       "  'text': 'How can I increase my productivity while working from home?',\n",
       "  'category': 'generic'},\n",
       " {'question_id': 5,\n",
       "  'text': 'Can you explain the basics of quantum computing?',\n",
       "  'category': 'generic'}]"
      ]
     },
     "execution_count": 2,
     "metadata": {},
     "output_type": "execute_result"
    }
   ],
   "source": [
    "qe"
   ]
  }
 ],
 "metadata": {
  "kernelspec": {
   "display_name": "Python 3",
   "language": "python",
   "name": "python3"
  },
  "language_info": {
   "codemirror_mode": {
    "name": "ipython",
    "version": 3
   },
   "file_extension": ".py",
   "mimetype": "text/x-python",
   "name": "python",
   "nbconvert_exporter": "python",
   "pygments_lexer": "ipython3",
   "version": "3.9.16"
  }
 },
 "nbformat": 4,
 "nbformat_minor": 2
}
